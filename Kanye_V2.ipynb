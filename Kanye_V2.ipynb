{
 "cells": [
  {
   "cell_type": "markdown",
   "id": "b4a83379",
   "metadata": {},
   "source": [
    "# V2 Kanye"
   ]
  },
  {
   "cell_type": "markdown",
   "id": "bf44b522",
   "metadata": {},
   "source": [
    "## Clean Up"
   ]
  },
  {
   "cell_type": "markdown",
   "id": "9c834d06",
   "metadata": {},
   "source": [
    "### CSV - Tweets"
   ]
  },
  {
   "cell_type": "code",
   "execution_count": 1,
   "id": "13cc4e28",
   "metadata": {},
   "outputs": [
    {
     "name": "stdout",
     "output_type": "stream",
     "text": [
      "Requirement already satisfied: pandas in /opt/homebrew/lib/python3.11/site-packages (2.2.3)\n",
      "Requirement already satisfied: numpy>=1.23.2 in /opt/homebrew/lib/python3.11/site-packages (from pandas) (2.1.3)\n",
      "Requirement already satisfied: python-dateutil>=2.8.2 in /opt/homebrew/lib/python3.11/site-packages (from pandas) (2.9.0.post0)\n",
      "Requirement already satisfied: pytz>=2020.1 in /opt/homebrew/lib/python3.11/site-packages (from pandas) (2024.2)\n",
      "Requirement already satisfied: tzdata>=2022.7 in /opt/homebrew/lib/python3.11/site-packages (from pandas) (2024.2)\n",
      "Requirement already satisfied: six>=1.5 in /opt/homebrew/lib/python3.11/site-packages (from python-dateutil>=2.8.2->pandas) (1.17.0)\n",
      "Note: you may need to restart the kernel to use updated packages.\n",
      "                                                text\n",
      "0   Lets always remember this as my final tweet ye24\n",
      "1  Lets break one last window before we get outa ...\n",
      "2      Well everyone We had a nice run Jesus is King\n",
      "3  Never turn our backs Demna and the Balenciaga ...\n",
      "4  I stand by Balenciaga and denounce all witch h...\n"
     ]
    }
   ],
   "source": [
    "%pip install pandas\n",
    "\n",
    "import pandas as pd\n",
    "import re\n",
    "\n",
    "# CSV laden\n",
    "df_tweets = pd.read_csv(\"Input/KanyeTweets.csv\")\n",
    "\n",
    "# Spalte vereinheitlichen\n",
    "df_tweets.rename(columns={\"Tweet\": \"text\"}, inplace=True)\n",
    "\n",
    "# Nur echte Original-Tweets (kein RT, kein NaN)\n",
    "df_tweets = df_tweets[df_tweets[\"text\"].notna()]\n",
    "df_tweets = df_tweets[~df_tweets[\"text\"].str.startswith(\"RT\")]\n",
    "df_tweets[\"text\"] = df_tweets[\"text\"].astype(str)\n",
    "\n",
    "# Links entfernen\n",
    "df_tweets[\"text\"] = df_tweets[\"text\"].apply(lambda x: re.sub(r\"http\\S+\", \"\", x))\n",
    "\n",
    "# Bereinigung (Mentions, Emojis, Sonderzeichen)\n",
    "def clean_tweet(text):\n",
    "    text = re.sub(r\"@[A-Za-z0-9_]+\", \"\", text)\n",
    "    text = re.sub(r\"[^0-9A-Za-zäöüÄÖÜß.,!?\\'\\\"\\s]\", \"\", text)\n",
    "    return text.strip()\n",
    "\n",
    "# Neue Spalte erzeugen\n",
    "df_tweets[\"text\"] = df_tweets[\"text\"].apply(clean_tweet)\n",
    "\n",
    "# Index zurücksetzen und nur 'text' behalten\n",
    "df_tweets = df_tweets[[\"text\"]].reset_index(drop=True)\n",
    "\n",
    "# Ergebnis anzeigen\n",
    "print(df_tweets.head())\n"
   ]
  },
  {
   "cell_type": "markdown",
   "id": "5fba490a",
   "metadata": {},
   "source": [
    "### CSV - Lyrics"
   ]
  },
  {
   "cell_type": "code",
   "execution_count": 2,
   "id": "be3d6cf9",
   "metadata": {},
   "outputs": [
    {
     "name": "stdout",
     "output_type": "stream",
     "text": [
      "Anzahl Zeilen: 7136\n",
      "Beispiel: ['[Produced by Kanye West and Jon Brion]', '[Intro: Jamie Foxx]', \"She take my money when I'm in need\", \"Yeah, she's a triflin' friend indeed\", \"Oh, she's a gold digger\"]\n"
     ]
    }
   ],
   "source": [
    "import pandas as pd\n",
    "\n",
    "# Lyrics einlesen\n",
    "df_lyrics = pd.read_csv(\"Input/LyricsWest.csv\")\n",
    "\n",
    "# Nur gültige Texte behalten\n",
    "df_lyrics = df_lyrics[df_lyrics[\"text\"].notna()]\n",
    "df_lyrics[\"text\"] = df_lyrics[\"text\"].astype(str)\n",
    "\n",
    "# Alle nicht-leeren Zeilen sammeln\n",
    "all_lines = []\n",
    "\n",
    "for song in df_lyrics[\"text\"]:\n",
    "    lines = song.split(\"\\n\")\n",
    "    for line in lines:\n",
    "        line = line.strip()\n",
    "        if line:  # leere Zeilen ignorieren, aber alles andere behalten (auch \"[Chorus]\" etc.)\n",
    "            all_lines.append(line)\n",
    "\n",
    "# Optional anzeigen\n",
    "print(f\"Anzahl Zeilen: {len(all_lines)}\")\n",
    "print(\"Beispiel:\", all_lines[:5])\n"
   ]
  },
  {
   "cell_type": "markdown",
   "id": "4228ef0e",
   "metadata": {},
   "source": [
    "### PDF's - Biography & Psychoanalytics & Book"
   ]
  },
  {
   "cell_type": "code",
   "execution_count": 3,
   "id": "bcf8d625",
   "metadata": {},
   "outputs": [
    {
     "name": "stderr",
     "output_type": "stream",
     "text": [
      "100%|██████████| 3/3 [00:01<00:00,  2.69it/s]\n"
     ]
    }
   ],
   "source": [
    "import glob\n",
    "import tqdm\n",
    "from PyPDF2 import PdfReader\n",
    "\n",
    "def extract_pdf_text(pdf_path):\n",
    "    with open(pdf_path, \"rb\") as f:\n",
    "        reader = PdfReader(f)\n",
    "        texts = [page.extract_text() for page in reader.pages if page.extract_text()]\n",
    "    return \" \".join(texts)\n",
    "\n",
    "# PDFs laden\n",
    "pdf_paths = [\n",
    "    \"Input/Biography.pdf\",\n",
    "    \"Input/Study.pdf\",\n",
    "    \"Input/TWAK.pdf\"\n",
    "]\n",
    "\n",
    "# Inhalte bereinigen\n",
    "def clean_pdf_text(text):\n",
    "    text = re.sub(r\"\\s+\", \" \", text)  # überflüssige Leerzeichen\n",
    "    text = re.sub(r\"[^0-9A-Za-zäöüÄÖÜß.,!?\\'\\\"\\s\\-–]\", \"\", text)  # Sonderzeichen (behutsam)\n",
    "    return text.strip()\n",
    "\n",
    "# Bereinigte Texte in Dict\n",
    "pdf_cleaned = {}\n",
    "for path in tqdm.tqdm(pdf_paths):\n",
    "    name = path.split(\"/\")[-1].replace(\".pdf\", \"\")\n",
    "    raw = extract_pdf_text(path)\n",
    "    cleaned = clean_pdf_text(raw)\n",
    "    pdf_cleaned[name] = cleaned\n"
   ]
  },
  {
   "cell_type": "markdown",
   "id": "7beced58",
   "metadata": {},
   "source": [
    "## Chunken"
   ]
  },
  {
   "cell_type": "code",
   "execution_count": 4,
   "id": "4c00a509",
   "metadata": {},
   "outputs": [],
   "source": [
    "from langchain.text_splitter import SentenceTransformersTokenTextSplitter\n",
    "\n",
    "token_splitter = SentenceTransformersTokenTextSplitter(\n",
    "    tokens_per_chunk=128,\n",
    "    chunk_overlap=16,\n",
    "    model_name=\"paraphrase-multilingual-MiniLM-L12-v2\"\n",
    ")\n",
    "\n",
    "\n",
    "# 1. Tweets (bereinigt in df_tweets[\"text\"])\n",
    "tweets_text = \"\\n\".join(df_tweets[\"text\"])\n",
    "tweet_chunks_token = [{\"text\": chunk, \"source\": \"tweets\"} for chunk in token_splitter.split_text(tweets_text)]\n",
    "\n",
    "# 2. Lyrics\n",
    "lyrics_text = \"\\n\".join(all_lines)\n",
    "lyrics_chunks_token = [{\"text\": chunk, \"source\": \"lyrics\"} for chunk in token_splitter.split_text(lyrics_text)]\n",
    "\n",
    "# 3. Biografie\n",
    "biography_text = pdf_cleaned.get(\"Biography\", \"\")\n",
    "biography_chunks_token = [{\"text\": chunk, \"source\": \"biography\"} for chunk in token_splitter.split_text(biography_text)]\n",
    "\n",
    "# 4. Psychoanalytische Studie\n",
    "study_text = pdf_cleaned.get(\"Study\", \"\")\n",
    "study_chunks_token = [{\"text\": chunk, \"source\": \"study\"} for chunk in token_splitter.split_text(study_text)]\n",
    "\n",
    "# 5. TWAK-Zitatbuch\n",
    "twak_text = pdf_cleaned.get(\"TWAK\", \"\")\n",
    "twak_chunks_token = [{\"text\": chunk, \"source\": \"twak\"} for chunk in token_splitter.split_text(twak_text)]\n"
   ]
  },
  {
   "cell_type": "markdown",
   "id": "9470f16b",
   "metadata": {},
   "source": [
    "### Zusammenführen"
   ]
  },
  {
   "cell_type": "code",
   "execution_count": 5,
   "id": "769d18a1",
   "metadata": {},
   "outputs": [
    {
     "name": "stdout",
     "output_type": "stream",
     "text": [
      "Gesamtanzahl Chunks: 1421\n",
      "Beispiel-Chunk: {'text': 'Lets always remember this as my final tweet ye24 Lets break one last window before we get outa here I caught this guy with Kim Good night Well everyone We had a nice run Jesus is King Never turn our backs Demna and the Balenciaga family for life Cancel cancel culture Jesus please heal I stand by Balenciaga and denounce all witch hunts and I cancel cancel culture Jesus is King Ending trafficking doesnt start or end with a fashion campaign for Christ Sake Hes done miracles on me The use of Porn destroyed my family but Jesus will heal everythin Remove any and all', 'source': 'tweets'}\n"
     ]
    }
   ],
   "source": [
    "# Alle Quellen-Chunks in einer Liste zusammenführen\n",
    "all_chunks = (\n",
    "    tweet_chunks_token +\n",
    "    lyrics_chunks_token +\n",
    "    biography_chunks_token +\n",
    "    study_chunks_token +\n",
    "    twak_chunks_token\n",
    ")\n",
    "\n",
    "# Optional: kleine Übersicht\n",
    "print(f\"Gesamtanzahl Chunks: {len(all_chunks)}\")\n",
    "print(\"Beispiel-Chunk:\", all_chunks[0])\n"
   ]
  },
  {
   "cell_type": "markdown",
   "id": "5d3eefb8",
   "metadata": {},
   "source": [
    "## Embedding"
   ]
  },
  {
   "cell_type": "code",
   "execution_count": 6,
   "id": "a0ef8562",
   "metadata": {},
   "outputs": [
    {
     "data": {
      "application/vnd.jupyter.widget-view+json": {
       "model_id": "410168e039d9429badd8d8596bb4b2dc",
       "version_major": 2,
       "version_minor": 0
      },
      "text/plain": [
       "Batches:   0%|          | 0/45 [00:00<?, ?it/s]"
      ]
     },
     "metadata": {},
     "output_type": "display_data"
    }
   ],
   "source": [
    "from sentence_transformers import SentenceTransformer\n",
    "\n",
    "model = SentenceTransformer(\"paraphrase-multilingual-MiniLM-L12-v2\")\n",
    "texts = [chunk[\"text\"] for chunk in all_chunks]\n",
    "embeddings = model.encode(texts, convert_to_numpy=True, show_progress_bar=True)\n"
   ]
  },
  {
   "cell_type": "markdown",
   "id": "c0412f2a",
   "metadata": {},
   "source": [
    "## FAISS"
   ]
  },
  {
   "cell_type": "code",
   "execution_count": 7,
   "id": "477d239d",
   "metadata": {},
   "outputs": [
    {
     "name": "stdout",
     "output_type": "stream",
     "text": [
      "FAISS Index enthält: 1421 Vektoren\n",
      "FAISS Index & Chunk-Mapping gespeichert unter 'faiss/'\n"
     ]
    }
   ],
   "source": [
    "import os\n",
    "import pickle\n",
    "import numpy as np\n",
    "import faiss\n",
    "from sentence_transformers import SentenceTransformer\n",
    "\n",
    "dimension = embeddings.shape[1]\n",
    "index = faiss.IndexFlatL2(dimension)\n",
    "index.add(embeddings)\n",
    "print(\"FAISS Index enthält:\", index.ntotal, \"Vektoren\")\n",
    "\n",
    "\n",
    "os.makedirs(\"faiss\", exist_ok=True)\n",
    "faiss.write_index(index, \"faiss/faiss_index.index\")\n",
    "with open(\"faiss/chunks_mapping.pkl\", \"wb\") as f:\n",
    "    pickle.dump(all_chunks, f)\n",
    "print(\"FAISS Index & Chunk-Mapping gespeichert unter 'faiss/'\")"
   ]
  },
  {
   "cell_type": "markdown",
   "id": "f5050187",
   "metadata": {},
   "source": [
    "## Retrieve"
   ]
  },
  {
   "cell_type": "code",
   "execution_count": 8,
   "id": "e7adbfd0",
   "metadata": {},
   "outputs": [
    {
     "name": "stdout",
     "output_type": "stream",
     "text": [
      "Retrieved document preview:\n",
      "[Verse 1: Kanye West] I met this girl when I was three years old And what I loved most, she had so much soul She said, \"Excuse me, lil homie, I know you don't know me But my name is Windy and I like to blow trees.\" And from that point I never blow her off Niggas come from out of town, I like to show\n"
     ]
    }
   ],
   "source": [
    "def retrieve(query, k=20):\n",
    "    \"\"\"\n",
    "    Retrieve the top k similar Kanye text chunks and their embeddings for a given query.\n",
    "    \"\"\"\n",
    "    query_embedding = model.encode([query], convert_to_numpy=True)\n",
    "    distances, indices = index.search(query_embedding, k)\n",
    "    retrieved_texts = [all_chunks[i][\"text\"] for i in indices[0]]\n",
    "    retrieved_embeddings = [model.encode(all_chunks[i][\"text\"], convert_to_numpy=True) for i in indices[0]]\n",
    "    return retrieved_texts, retrieved_embeddings, distances[0]\n",
    "\n",
    "query = \"What does Kanye say about his Daughter North?\"\n",
    "results, result_embeddings, distances = retrieve(query, k=10)\n",
    "print(\"Retrieved document preview:\")\n",
    "print(results[0][:300])\n"
   ]
  },
  {
   "cell_type": "code",
   "execution_count": 9,
   "id": "75f216bc",
   "metadata": {},
   "outputs": [
    {
     "name": "stderr",
     "output_type": "stream",
     "text": [
      "/opt/homebrew/lib/python3.11/site-packages/sklearn/utils/deprecation.py:151: FutureWarning: 'force_all_finite' was renamed to 'ensure_all_finite' in 1.6 and will be removed in 1.8.\n",
      "  warnings.warn(\n",
      "OMP: Info #276: omp_set_nested routine deprecated, please use omp_set_max_active_levels instead.\n",
      "/opt/homebrew/lib/python3.11/site-packages/sklearn/utils/deprecation.py:151: FutureWarning: 'force_all_finite' was renamed to 'ensure_all_finite' in 1.6 and will be removed in 1.8.\n",
      "  warnings.warn(\n",
      "/opt/homebrew/lib/python3.11/site-packages/sklearn/utils/deprecation.py:151: FutureWarning: 'force_all_finite' was renamed to 'ensure_all_finite' in 1.6 and will be removed in 1.8.\n",
      "  warnings.warn(\n"
     ]
    },
    {
     "data": {
      "image/png": "[encoded data removed]",
      "text/plain": [
       "<Figure size 1000x800 with 1 Axes>"
      ]
     },
     "metadata": {},
     "output_type": "display_data"
    },
    {
     "name": "stdout",
     "output_type": "stream",
     "text": [
      "\n",
      " Query: What does Kanye say about his Daughter North?\n",
      "\n",
      "[1] Ähnlichkeitsabstand: 18.0234\n",
      "Text:\n",
      "[Verse 1: Kanye West] I met this girl when I was three years old And what I loved most, she had so much soul She said, \"Excuse me, lil homie, I know you don't know me But my name is Windy and I like to blow trees.\" And from that point I never blow her off Niggas come from out of town, I like to show\n",
      "------------------------------------------------------------\n",
      "[2] Ähnlichkeitsabstand: 18.2353\n",
      "Text:\n",
      "pac songs, and speculated that association of the rapper to her brother allowed her to understand and appreciate his songs more. Now older, she found aspects of Kanye West's music resonating with her in similar ways to Tupac's. More specifically, she experi - enced West's contradictory persona, rife\n",
      "------------------------------------------------------------\n",
      "[3] Ähnlichkeitsabstand: 18.3127\n",
      "Text:\n",
      ", Kanye represents the voice inside us that pushes us to go beyond.FOREWORD FOREWORD If anyones reading this waiting for some type of full-on, flat apology for anything, they should just stop reading right now. 5To try and to be honest. Encouraging us to be hated for what we are rather than loved fo\n",
      "------------------------------------------------------------\n",
      "[4] Ähnlichkeitsabstand: 18.8647\n",
      "Text:\n",
      "hit the liquor store Got some Cris' and some Mo' And we about to let it floooooow Had some problems before but see we let em go Got an ounce of that 'dro And we about to let it bloooooow [Produced by Kanye West] [Intro] Wished I had told ooh was (the) only one (uh oh!) But it's too late, it's too la\n",
      "------------------------------------------------------------\n",
      "[5] Ähnlichkeitsabstand: 18.9021\n",
      "Text:\n",
      "ing lights [Verse 1: Kanye West] She don't believe in shootin' stars But she believe in shoes and cars Wood floors in the new apartment Couture from the store's departments You more like \"love to start shit\" I'm more of the trips to Florida Ordered the hors d'oeuvres, views of the water Straight fro\n",
      "------------------------------------------------------------\n",
      "[6] Ähnlichkeitsabstand: 18.9507\n",
      "Text:\n",
      "and (Here's to the Roc) This is the last call for alcohol, for the (Mr. Rockefeller) So get your ass up off the wall [Verse 2: Kanye West] Now was Kanye the most overlooked? Yes sir Now is Kanye the most overbooked? Yes sir Though the fans want the feeling of A Tribe Called Quest But all they got le\n",
      "------------------------------------------------------------\n",
      "[7] Ähnlichkeitsabstand: 18.9771\n",
      "Text:\n",
      "the lights [Verse 2: Kanye West] Restraining order, can’t see my daughter Her mother, brother, grandmother hate me in that order Public visitation, we met at Borders Told her she take me back, I’ll be more supportive I made mistakes, I bumped my head Courts sucked me dry, I spent that bread She need\n",
      "------------------------------------------------------------\n",
      "[8] Ähnlichkeitsabstand: 19.0052\n",
      "Text:\n",
      "you can't tell me nothing You can't tell me nothing Uh uh, you can't tell me nothing [Outro: Kanye (w/ Young Jeezy)] La, la, la la Wait 'til I get my money right La, la, la la Then you can't tell me nothing, right? (I'm serious nigga, I got money) [Connie Mitchell vocalizing] [Intro: Kanye West] It'\n",
      "------------------------------------------------------------\n",
      "[9] Ähnlichkeitsabstand: 19.0425\n",
      "Text:\n",
      "And on the 18th birthday he found out it wasn't his?! [Hook: Kanye West + (Jamie Foxx)] (She give me money) Now, I ain't sayin' she a gold digger (When I'm in need) But she ain't messin' with no broke niggas (She give me money) Now, I ain't sayin' she a gold digger (When I'm in need) But she ain't m\n",
      "------------------------------------------------------------\n",
      "[10] Ähnlichkeitsabstand: 19.3085\n",
      "Text:\n",
      "lashing lights) [Verse 2: Kanye West] I know it's been a while, sweetheart We hardly talk, I was doin' my thang I know it was foul, baby Aye, babe, lately, you've been all on my brain And if somebody woulda told me a month ago Frontin' though: yo, I wouldn't wanna know If somebody woulda told me a y\n",
      "------------------------------------------------------------\n"
     ]
    }
   ],
   "source": [
    "import umap\n",
    "import matplotlib.pyplot as plt\n",
    "import numpy as np\n",
    "\n",
    "def shorten_text(text, max_length=15):\n",
    "    return (text[:max_length] + '...') if len(text) > max_length else text\n",
    "\n",
    "# 1. Fit UMAP auf alle Embeddings (nur einmal, wenn noch nicht geschehen)\n",
    "reducer = umap.UMAP(n_neighbors=15, n_components=2, metric='cosine')\n",
    "projected_dataset_embeddings = reducer.fit_transform(embeddings)  # embeddings = alle Chunks\n",
    "\n",
    "# 2. Transformiere die Retrieval-Ergebnisse (retrieved embeddings)\n",
    "projected_result_embeddings = reducer.transform(np.array(result_embeddings))\n",
    "\n",
    "# 3. Transformiere Query-Embedding\n",
    "query_embedding = model.encode([query], convert_to_numpy=True)\n",
    "project_original_query = reducer.transform(query_embedding)\n",
    "\n",
    "# 4. Plot\n",
    "plt.figure(figsize=(10,8))\n",
    "\n",
    "plt.scatter(projected_dataset_embeddings[:,0], projected_dataset_embeddings[:,1],\n",
    "            s=10, color='gray', label='Dataset')\n",
    "\n",
    "plt.scatter(projected_result_embeddings[:,0], projected_result_embeddings[:,1],\n",
    "            s=100, facecolors='none', edgecolors='green', label='Results')\n",
    "\n",
    "plt.scatter(project_original_query[:,0], project_original_query[:,1],\n",
    "            s=150, marker='X', color='red', label='Query')\n",
    "\n",
    "# Beschriftungen der Resultate\n",
    "for i, text in enumerate(results):\n",
    "    plt.annotate(shorten_text(text), \n",
    "                 (projected_result_embeddings[i,0], projected_result_embeddings[i,1]),\n",
    "                 fontsize=8)\n",
    "\n",
    "# Beschriftung der Query\n",
    "plt.annotate(shorten_text(query), \n",
    "             (project_original_query[0,0], project_original_query[0,1]),\n",
    "             fontsize=10, fontweight='bold')\n",
    "\n",
    "plt.gca().set_aspect('equal', 'datalim')\n",
    "plt.title('Kanye Text Embeddings Visualization mit UMAP')\n",
    "plt.legend()\n",
    "plt.show()\n",
    "\n",
    "print(f\"\\n Query: {query}\\n\")\n",
    "\n",
    "for i, (text, dist) in enumerate(zip(results, distances)):\n",
    "    print(f\"[{i+1}] Ähnlichkeitsabstand: {dist:.4f}\")\n",
    "    print(f\"Text:\\n{text[:300]}\")  # max 300 Zeichen\n",
    "    print(\"-\" * 60)\n"
   ]
  },
  {
   "cell_type": "markdown",
   "id": "c48473fe",
   "metadata": {},
   "source": [
    "## Groq\n"
   ]
  },
  {
   "cell_type": "code",
   "execution_count": 10,
   "id": "7cb82238",
   "metadata": {},
   "outputs": [],
   "source": [
    "def build_prompt(context_chunks, user_query):\n",
    "    context_block = \"\\n\\n\".join(context_chunks)\n",
    "    prompt = f\"\"\"Beantworte folgende Frage basierend auf dem gegebenen Kontext.\n",
    " \n",
    "Kontext:\n",
    "{context_block}\n",
    " \n",
    "Frage:\n",
    "{user_query}\n",
    " \n",
    "Antwort:\"\"\"\n",
    "    return prompt"
   ]
  },
  {
   "cell_type": "code",
   "execution_count": 11,
   "id": "967b6f9c",
   "metadata": {},
   "outputs": [
    {
     "name": "stdout",
     "output_type": "stream",
     "text": [
      "\n",
      " Frage: Was sind Kanyes Hauptthemen in seinen Liedern?\n",
      "Basierend auf dem gegebenen Kontext, insbesondere dem Inhalt des Buches \"The World According to Kanye\" und dem Song-Auszug, können Kanyes Hauptthemen in seinen Liedern wie folgt identifiziert werden:\n",
      "\n",
      "1. Selbstwertgefühl (Self Esteem) - wie im Titel des Kapitels \"Kanye on Self Esteem\" und im Song-Auszug, wo er sich selbst als Künstler und Visionär präsentiert.\n",
      "2. Kunst und Kreativität (Art and Creativity) - wie im Kapitel \"Kanye on Art\" und im Song-Auszug, wo er über die Bedeutung von Proportionen und Farbe spricht.\n",
      "3. Musik und Hip-Hop (Music and Hip-Hop) - wie im Kapitel \"Kanye on Music\" und \"Kanye on Hip-Hop\", wo er seine Musik und seine Rolle in der Musikindustrie reflektiert.\n",
      "4. Liebe und Beziehungen (Love) - wie im Kapitel \"Kanye on Love\", wo er seine Gefühle und Beziehungen thematisiert.\n",
      "5. Erfolg und Reichtum (Success and Wealth) - wie im Song-Auszug, wo er über seine Erfolge und seinen Reichtum spricht (z.B. \"250 Million... This is not regular!\").\n",
      "\n",
      "Es ist zu beachten, dass diese Themen möglicherweise nicht alle in Kanyes gesamten Werk präsent sind, aber sie scheinen in diesem bestimmten Kontext prominent zu sein.\n",
      "\n",
      " Frage: Wie beschreibt Kanye West seine Beziehung zu seiner Tochter?\n",
      "Kanye West beschreibt seine Beziehung zu seiner Mutter, nicht seiner Tochter. Er erzählt, dass er seine Mutter Windy kennengelernt habe, als er drei Jahre alt war, und dass sie eine starke Persönlichkeit hatte, die ihn beeindruckt hat. Er beschreibt, wie sie ihn aufgerichtet und wie sie andere Männer zurechtgewiesen hat, wenn sie ihn respektlos behandelt haben.\n",
      "\n",
      " Frage: Welche Rolle spielt Religion in Kanyes Musik?\n",
      "Based on the provided lyrics and context, it's clear that religion, specifically Christianity, plays in Kanye West's creative process and artistic expression. \n",
      "\n",
      "In the given excerpt, he mentions \"My spirit is a higher power, that's why I get spiritual.\" This indicates a sense of connection to a divine entity, which guides his artistic vision. He explicitly states, \"I get my hymns from Him,\" suggesting a direct inspiration from a higher power. \n",
      "\n",
      "Furthermore, Kanye refers to himself as a \"heaven-sent instrument,\" emphasizing his role as a vessel for creative expression. The line \"I need my loot by rent day, but that ain't what gives me the heart of Kunta Kinte\" implies that his artistic pursuits are driven by a desire for freedom and spirituality, rather than material gain.\n",
      "\n",
      "These sentiments are consistent with Kanye's previous works, where he has often incorporated religious themes and motifs into his music. His religious beliefs seem to have a profound impact on his creativity, worldview, and artistic message.\n",
      "\n",
      "In the context of the classroom discussion on Oedipal dynamics, it is interesting to explore how his religious views might intersect with his personal relationships, such as his marriage to Kim Kardashian and his connection to his in-laws, which might shed light on the nuances of his creative process.\n",
      "\n",
      "Overall, religion plays a significant role in Kanye's music as a source of inspiration, guidance, and spiritual fulfillment.\n",
      "\n",
      " Frage: Wie äußert sich Kanye zu Mode und seinem Einfluss darauf?\n",
      "Laut dem Kontext äußert sich Kanye West zu Mode wie folgt: \"I just thought of the craziest idea of all ... I'm going to sell winter coats in the winter!!!\" Außerdem gibt es ein Kapitel im Buch \"THE WORLD ACCORDING TO KANYE\" mit dem Titel \"Kanye on Clothes\", in dem er offenbar über seine Ansichten zum Thema Mode und Kleidung spricht.\n",
      "\n",
      " Frage: Was sagt Kanye über seine Karriere im Musikbusiness?\n",
      "Basierend auf dem gegebenen Kontext sagt Kanye über seine Karriere im Musikbusiness, dass er alles, was jemals als Nachteil für ihn gehalten wurde, in seinen Vorteil umgewandelt hat. Er sagt auch, dass er uns ermutigt, für das, was wir sind, gehasst zu werden, anstatt geliebt zu werden.\n",
      "\n",
      " Frage: Welche Aussagen macht Kanye über seine Mental Health?\n",
      "Laut dem Text macht Kanye eine Aussage über seine Gesundheit, nämlich dass er bipolar ist\". Dieser Aussage erfolgte auf seinem Album \"ye\", das im Jahr 2018 veröffentlicht wurde.\n",
      "\n",
      " Frage: Wie beschreibt Kanye seine künstlerische Vision?\n",
      "Unfortunately, the provided text does not explicitly describe Kanye's artistic vision. However, based on the context, it can be inferred that Kanye's approach to art and creativity is centered around pushing boundaries, being innovative, and converting perceived disadvantages into advantages. The quote \"I feel like everything that anybody ever said in life would be a disadvantage to me, Ima make it my advantage\" suggests that Kanye's artistic vision is driven by a desire to challenge norms and turn limitations into opportunities for growth and innovation.\n",
      "\n",
      " Frage: Was sind Kanyes Gedanken zur amerikanischen Gesellschaft?\n",
      "Based on the given context, Kanye's thoughts on American society can be inferred as follows:\n",
      "\n",
      "Kanye views America as a \"bastard\" and an \"illegitimate daughter of the mother country\" that is characterized by hypocrisy and oppression. The words \"freedom\", \"democracy\", and \"justice\" are seen as code words for oppressive systems. He seems to be critical of the capitalist system, where information is hoarded and power is concentrated. He yearns for a more authentic and spontaneous way of living, where people can share ideas and grow together.\n",
      "\n",
      "Moreover, Kanye appears to be concerned about the marginalization of certain groups, particularly in the context of American academic psychology. He wants to create a more inclusive and universal consciousness, rather than a segregated one.\n",
      "\n",
      "Overall, Kanye's thoughts on American society seem to be centered around a critique of power structures, oppression, and the lack of authenticity and spontaneity in modern life.\n",
      "\n",
      " Frage: Wie spricht Kanye über seine Familie und Freunde?\n",
      "Diese Frage kann nicht direkt aus dem gegebenen Text beantwortet werden, da der Text nicht über Kanye Wests Aussagen über seine Familie und Freunde spricht. Der Text beschreibt vielmehr die Wahrnehmung Kanye Wests in den Medien und unter seinen Fans, sowie seine erfolgreiche Karriere als Künstler. Es wird erwähnt, dass viele Prominente und Unternehmer, wie Elon Musk, Kanye West loben, aber diese Aussagen beziehen sich nicht auf seine Familie und Freunde.\n",
      "\n",
      " Frage: Was sind Kanyes Ansichten zur Freiheit und Kreativität?\n",
      "Kanye Wests Ansichten zur Freiheit und Kreativität sind, dass Kreativität nicht auf einen bestimmten Bereich beschränkt sein sollte. Er glaubt, dass es in allen Feldern einen Mangel an Kreativität gibt, weil Menschen Angst haben und von Mächten kontrolliert werden. Er selbst möchte frei sein, um seine Ideen auszudrücken und teilen, ohne sich um die Meinung anderer zu kümmern. Er ist der Meinung, dass ein Künstler eine Struktur benötigt, um kreativ sein zu können. Er selbst will so nah wie möglich an ein kindliches Niveau kommen, um frei von Angst und Zwängen zu sein.\n",
      "\n",
      "Für Kanye West sind Freiheit und Kreativität eng miteinander verbunden. Er will frei sein, um seine Ideen und Gedanken auszudrücken und teilen, ohne von anderen beeinflusst zu werden. Er möchte ein Vorbild sein, das zeigt, dass man frei sein kann, ohne den Druck der Macht zu fürchten. Er glaubt, dass die Künstler und Poeten eine Verantwortung haben, die Wahrheit und Ehrlichkeit in einer Welt von Prozessorinformation aufzuzeichnen.\n"
     ]
    }
   ],
   "source": [
    "# 1. Lade API Key\n",
    "from dotenv import load_dotenv\n",
    "import os\n",
    "from groq import Groq\n",
    "\n",
    "# Lade .env Datei aus dem Unterordner \"env\"\n",
    "load_dotenv(dotenv_path=\"env/.env\")\n",
    "\n",
    "# Hole den API Key\n",
    "groq_api_key = os.getenv(\"GROQ_API_KEY\")\n",
    "\n",
    "if groq_api_key is None:\n",
    "    raise ValueError(\"API Key not found! Please check your env/.env file.\")\n",
    "\n",
    "# Initialisiere Groq-Client\n",
    "client = Groq(api_key=groq_api_key)\n",
    "\n",
    "# 2. Liste möglicher User Queries zur Bachelorarbeit\n",
    "user_queries = [\n",
    "    \"Was sind Kanyes Hauptthemen in seinen Liedern?\",\n",
    "    \"Wie beschreibt Kanye West seine Beziehung zu seiner Tochter?\",\n",
    "    \"Welche Rolle spielt Religion in Kanyes Musik?\",\n",
    "    \"Wie äußert sich Kanye zu Mode und seinem Einfluss darauf?\",\n",
    "    \"Was sagt Kanye über seine Karriere im Musikbusiness?\",\n",
    "    \"Welche Aussagen macht Kanye über seine Mental Health?\",\n",
    "    \"Wie beschreibt Kanye seine künstlerische Vision?\",\n",
    "    \"Was sind Kanyes Gedanken zur amerikanischen Gesellschaft?\",\n",
    "    \"Wie spricht Kanye über seine Familie und Freunde?\",\n",
    "    \"Was sind Kanyes Ansichten zur Freiheit und Kreativität?\"\n",
    "]\n",
    "\n",
    "\n",
    "# 3. Für jede Query: retrieve, prompt bauen, Anfrage an Groq, Ausgabe\n",
    "for user_query in user_queries:\n",
    "    print(f\"\\n Frage: {user_query}\")\n",
    "\n",
    "    # 3. Retrieve similar chunks\n",
    "    retrieved_chunks, _, _ = retrieve(user_query, k=3)\n",
    "\n",
    "    # 4. Build prompt\n",
    "    prompt = build_prompt(retrieved_chunks, user_query)\n",
    "\n",
    "    # 5. Groq Request\n",
    "    response = client.chat.completions.create(\n",
    "        model=\"llama3-70b-8192\",\n",
    "        messages=[\n",
    "            {\"role\": \"system\", \"content\": \"Du bist ein hilfsbereiter wissenschaftlicher Assistent.\"},\n",
    "            {\"role\": \"user\", \"content\": prompt}\n",
    "        ]\n",
    "    )\n",
    "\n",
    "    # 6. Ausgabe\n",
    "    print(response.choices[0].message.content)"
   ]
  },
  {
   "cell_type": "markdown",
   "id": "2cc4b1f9",
   "metadata": {},
   "source": [
    "## Testing"
   ]
  },
  {
   "cell_type": "markdown",
   "id": "e676c4a1",
   "metadata": {},
   "source": []
  }
 ],
 "metadata": {
  "kernelspec": {
   "display_name": "Python 3",
   "language": "python",
   "name": "python3"
  },
  "language_info": {
   "codemirror_mode": {
    "name": "ipython",
    "version": 3
   },
   "file_extension": ".py",
   "mimetype": "text/x-python",
   "name": "python",
   "nbconvert_exporter": "python",
   "pygments_lexer": "ipython3",
   "version": "3.11.11"
  }
 },
 "nbformat": 4,
 "nbformat_minor": 5
}
